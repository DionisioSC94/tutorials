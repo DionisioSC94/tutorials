{
  "nbformat": 4,
  "nbformat_minor": 0,
  "metadata": {
    "colab": {
      "name": "IntroToPandas.ipynb",
      "provenance": [],
      "collapsed_sections": [],
      "toc_visible": true,
      "authorship_tag": "ABX9TyPzAImB1PdcXOU+Mt4uQwgw",
      "include_colab_link": true
    },
    "kernelspec": {
      "name": "python3",
      "display_name": "Python 3"
    }
  },
  "cells": [
    {
      "cell_type": "markdown",
      "metadata": {
        "id": "view-in-github",
        "colab_type": "text"
      },
      "source": [
        "<a href=\"https://colab.research.google.com/github/DionisioSC94/tutorials/blob/main/IntroToPandas.ipynb\" target=\"_parent\"><img src=\"https://colab.research.google.com/assets/colab-badge.svg\" alt=\"Open In Colab\"/></a>"
      ]
    },
    {
      "cell_type": "markdown",
      "metadata": {
        "id": "Ow-YAdmgoei-"
      },
      "source": [
        "# An introduction to Pandas \n",
        "\n",
        "\n"
      ]
    },
    {
      "cell_type": "code",
      "metadata": {
        "id": "u7DbHFXkn54Z"
      },
      "source": [
        "import pandas as pd\n",
        "import matplotlib.pyplot as plt\n",
        "import numpy as np"
      ],
      "execution_count": null,
      "outputs": []
    },
    {
      "cell_type": "markdown",
      "metadata": {
        "id": "0THBfXR39AXw"
      },
      "source": [
        "# Nueva sección"
      ]
    },
    {
      "cell_type": "markdown",
      "metadata": {
        "id": "PfL7ZFR7pASJ"
      },
      "source": [
        " **Pandas Basic Objects: Series and DataFrame**\n",
        " \n",
        " Classes:\n",
        "\n",
        "```pd.DataFrame``` ```pd.Series```, ```pd.DataFrame.rename```, ```pd.DataFrame.set_index```\n",
        "\n"
      ]
    },
    {
      "cell_type": "code",
      "metadata": {
        "id": "wFOdRtyWodcJ",
        "outputId": "b60ccad5-a026-44f8-df66-d1a6b71335bf",
        "colab": {
          "base_uri": "https://localhost:8080/",
          "height": 740
        }
      },
      "source": [
        "#### Explicit definition of a DataFrame\n",
        "\n",
        "data = {'apples': [3,4,5,2],\n",
        "        'oranges':[1,2,3,4],\n",
        "        }\n",
        "\n",
        "df = pd.DataFrame(data)\n",
        "print(df)\n",
        "print(type(df))\n",
        "\n",
        "df = df.set_index(pd.Index(['Marius','Salma','Michael','Ruby']))\n",
        "\n",
        "#df = df.rename(index={'person{}'.format(i):\n",
        "print(df)\n",
        "\n",
        "\n",
        "print(type(df['apples']))\n",
        "print(df.head(10))\n",
        "#df = df.rename(index=[''])\n",
        "#### We can rename columns and index "
      ],
      "execution_count": null,
      "outputs": [
        {
          "output_type": "stream",
          "text": [
            "   apples  oranges\n",
            "0       3        1\n",
            "1       4        2\n",
            "2       5        3\n",
            "3       2        4\n",
            "<class 'pandas.core.frame.DataFrame'>\n",
            "         apples  oranges\n",
            "Marius        3        1\n",
            "Salma         4        2\n",
            "Michael       5        3\n",
            "Ruby          2        4\n"
          ],
          "name": "stdout"
        },
        {
          "output_type": "error",
          "ename": "KeyError",
          "evalue": "ignored",
          "traceback": [
            "\u001b[0;31m---------------------------------------------------------------------------\u001b[0m",
            "\u001b[0;31mKeyError\u001b[0m                                  Traceback (most recent call last)",
            "\u001b[0;32m/usr/local/lib/python3.6/dist-packages/pandas/core/indexes/base.py\u001b[0m in \u001b[0;36mget_loc\u001b[0;34m(self, key, method, tolerance)\u001b[0m\n\u001b[1;32m   2890\u001b[0m             \u001b[0;32mtry\u001b[0m\u001b[0;34m:\u001b[0m\u001b[0;34m\u001b[0m\u001b[0;34m\u001b[0m\u001b[0m\n\u001b[0;32m-> 2891\u001b[0;31m                 \u001b[0;32mreturn\u001b[0m \u001b[0mself\u001b[0m\u001b[0;34m.\u001b[0m\u001b[0m_engine\u001b[0m\u001b[0;34m.\u001b[0m\u001b[0mget_loc\u001b[0m\u001b[0;34m(\u001b[0m\u001b[0mcasted_key\u001b[0m\u001b[0;34m)\u001b[0m\u001b[0;34m\u001b[0m\u001b[0;34m\u001b[0m\u001b[0m\n\u001b[0m\u001b[1;32m   2892\u001b[0m             \u001b[0;32mexcept\u001b[0m \u001b[0mKeyError\u001b[0m \u001b[0;32mas\u001b[0m \u001b[0merr\u001b[0m\u001b[0;34m:\u001b[0m\u001b[0;34m\u001b[0m\u001b[0;34m\u001b[0m\u001b[0m\n",
            "\u001b[0;32mpandas/_libs/index.pyx\u001b[0m in \u001b[0;36mpandas._libs.index.IndexEngine.get_loc\u001b[0;34m()\u001b[0m\n",
            "\u001b[0;32mpandas/_libs/index.pyx\u001b[0m in \u001b[0;36mpandas._libs.index.IndexEngine.get_loc\u001b[0;34m()\u001b[0m\n",
            "\u001b[0;32mpandas/_libs/hashtable_class_helper.pxi\u001b[0m in \u001b[0;36mpandas._libs.hashtable.PyObjectHashTable.get_item\u001b[0;34m()\u001b[0m\n",
            "\u001b[0;32mpandas/_libs/hashtable_class_helper.pxi\u001b[0m in \u001b[0;36mpandas._libs.hashtable.PyObjectHashTable.get_item\u001b[0;34m()\u001b[0m\n",
            "\u001b[0;31mKeyError\u001b[0m: 1",
            "\nThe above exception was the direct cause of the following exception:\n",
            "\u001b[0;31mKeyError\u001b[0m                                  Traceback (most recent call last)",
            "\u001b[0;32m<ipython-input-22-87932d1379b2>\u001b[0m in \u001b[0;36m<module>\u001b[0;34m()\u001b[0m\n\u001b[1;32m     14\u001b[0m \u001b[0mprint\u001b[0m\u001b[0;34m(\u001b[0m\u001b[0mdf\u001b[0m\u001b[0;34m)\u001b[0m\u001b[0;34m\u001b[0m\u001b[0;34m\u001b[0m\u001b[0m\n\u001b[1;32m     15\u001b[0m \u001b[0;34m\u001b[0m\u001b[0m\n\u001b[0;32m---> 16\u001b[0;31m \u001b[0mprint\u001b[0m\u001b[0;34m(\u001b[0m\u001b[0mdf\u001b[0m\u001b[0;34m.\u001b[0m\u001b[0mloc\u001b[0m\u001b[0;34m[\u001b[0m\u001b[0;36m1\u001b[0m\u001b[0;34m,\u001b[0m\u001b[0;34m:\u001b[0m\u001b[0;34m]\u001b[0m\u001b[0;34m)\u001b[0m\u001b[0;34m\u001b[0m\u001b[0;34m\u001b[0m\u001b[0m\n\u001b[0m\u001b[1;32m     17\u001b[0m \u001b[0;34m\u001b[0m\u001b[0m\n\u001b[1;32m     18\u001b[0m \u001b[0mprint\u001b[0m\u001b[0;34m(\u001b[0m\u001b[0mtype\u001b[0m\u001b[0;34m(\u001b[0m\u001b[0mdf\u001b[0m\u001b[0;34m[\u001b[0m\u001b[0;34m'apples'\u001b[0m\u001b[0;34m]\u001b[0m\u001b[0;34m)\u001b[0m\u001b[0;34m)\u001b[0m\u001b[0;34m\u001b[0m\u001b[0;34m\u001b[0m\u001b[0m\n",
            "\u001b[0;32m/usr/local/lib/python3.6/dist-packages/pandas/core/indexing.py\u001b[0m in \u001b[0;36m__getitem__\u001b[0;34m(self, key)\u001b[0m\n\u001b[1;32m    871\u001b[0m                     \u001b[0;31m# AttributeError for IntervalTree get_value\u001b[0m\u001b[0;34m\u001b[0m\u001b[0;34m\u001b[0m\u001b[0;34m\u001b[0m\u001b[0m\n\u001b[1;32m    872\u001b[0m                     \u001b[0;32mpass\u001b[0m\u001b[0;34m\u001b[0m\u001b[0;34m\u001b[0m\u001b[0m\n\u001b[0;32m--> 873\u001b[0;31m             \u001b[0;32mreturn\u001b[0m \u001b[0mself\u001b[0m\u001b[0;34m.\u001b[0m\u001b[0m_getitem_tuple\u001b[0m\u001b[0;34m(\u001b[0m\u001b[0mkey\u001b[0m\u001b[0;34m)\u001b[0m\u001b[0;34m\u001b[0m\u001b[0;34m\u001b[0m\u001b[0m\n\u001b[0m\u001b[1;32m    874\u001b[0m         \u001b[0;32melse\u001b[0m\u001b[0;34m:\u001b[0m\u001b[0;34m\u001b[0m\u001b[0;34m\u001b[0m\u001b[0m\n\u001b[1;32m    875\u001b[0m             \u001b[0;31m# we by definition only have the 0th axis\u001b[0m\u001b[0;34m\u001b[0m\u001b[0;34m\u001b[0m\u001b[0;34m\u001b[0m\u001b[0m\n",
            "\u001b[0;32m/usr/local/lib/python3.6/dist-packages/pandas/core/indexing.py\u001b[0m in \u001b[0;36m_getitem_tuple\u001b[0;34m(self, tup)\u001b[0m\n\u001b[1;32m   1042\u001b[0m     \u001b[0;32mdef\u001b[0m \u001b[0m_getitem_tuple\u001b[0m\u001b[0;34m(\u001b[0m\u001b[0mself\u001b[0m\u001b[0;34m,\u001b[0m \u001b[0mtup\u001b[0m\u001b[0;34m:\u001b[0m \u001b[0mTuple\u001b[0m\u001b[0;34m)\u001b[0m\u001b[0;34m:\u001b[0m\u001b[0;34m\u001b[0m\u001b[0;34m\u001b[0m\u001b[0m\n\u001b[1;32m   1043\u001b[0m         \u001b[0;32mtry\u001b[0m\u001b[0;34m:\u001b[0m\u001b[0;34m\u001b[0m\u001b[0;34m\u001b[0m\u001b[0m\n\u001b[0;32m-> 1044\u001b[0;31m             \u001b[0;32mreturn\u001b[0m \u001b[0mself\u001b[0m\u001b[0;34m.\u001b[0m\u001b[0m_getitem_lowerdim\u001b[0m\u001b[0;34m(\u001b[0m\u001b[0mtup\u001b[0m\u001b[0;34m)\u001b[0m\u001b[0;34m\u001b[0m\u001b[0;34m\u001b[0m\u001b[0m\n\u001b[0m\u001b[1;32m   1045\u001b[0m         \u001b[0;32mexcept\u001b[0m \u001b[0mIndexingError\u001b[0m\u001b[0;34m:\u001b[0m\u001b[0;34m\u001b[0m\u001b[0;34m\u001b[0m\u001b[0m\n\u001b[1;32m   1046\u001b[0m             \u001b[0;32mpass\u001b[0m\u001b[0;34m\u001b[0m\u001b[0;34m\u001b[0m\u001b[0m\n",
            "\u001b[0;32m/usr/local/lib/python3.6/dist-packages/pandas/core/indexing.py\u001b[0m in \u001b[0;36m_getitem_lowerdim\u001b[0;34m(self, tup)\u001b[0m\n\u001b[1;32m    784\u001b[0m                 \u001b[0;31m# We don't need to check for tuples here because those are\u001b[0m\u001b[0;34m\u001b[0m\u001b[0;34m\u001b[0m\u001b[0;34m\u001b[0m\u001b[0m\n\u001b[1;32m    785\u001b[0m                 \u001b[0;31m#  caught by the _is_nested_tuple_indexer check above.\u001b[0m\u001b[0;34m\u001b[0m\u001b[0;34m\u001b[0m\u001b[0;34m\u001b[0m\u001b[0m\n\u001b[0;32m--> 786\u001b[0;31m                 \u001b[0msection\u001b[0m \u001b[0;34m=\u001b[0m \u001b[0mself\u001b[0m\u001b[0;34m.\u001b[0m\u001b[0m_getitem_axis\u001b[0m\u001b[0;34m(\u001b[0m\u001b[0mkey\u001b[0m\u001b[0;34m,\u001b[0m \u001b[0maxis\u001b[0m\u001b[0;34m=\u001b[0m\u001b[0mi\u001b[0m\u001b[0;34m)\u001b[0m\u001b[0;34m\u001b[0m\u001b[0;34m\u001b[0m\u001b[0m\n\u001b[0m\u001b[1;32m    787\u001b[0m \u001b[0;34m\u001b[0m\u001b[0m\n\u001b[1;32m    788\u001b[0m                 \u001b[0;31m# We should never have a scalar section here, because\u001b[0m\u001b[0;34m\u001b[0m\u001b[0;34m\u001b[0m\u001b[0;34m\u001b[0m\u001b[0m\n",
            "\u001b[0;32m/usr/local/lib/python3.6/dist-packages/pandas/core/indexing.py\u001b[0m in \u001b[0;36m_getitem_axis\u001b[0;34m(self, key, axis)\u001b[0m\n\u001b[1;32m   1108\u001b[0m         \u001b[0;31m# fall thru to straight lookup\u001b[0m\u001b[0;34m\u001b[0m\u001b[0;34m\u001b[0m\u001b[0;34m\u001b[0m\u001b[0m\n\u001b[1;32m   1109\u001b[0m         \u001b[0mself\u001b[0m\u001b[0;34m.\u001b[0m\u001b[0m_validate_key\u001b[0m\u001b[0;34m(\u001b[0m\u001b[0mkey\u001b[0m\u001b[0;34m,\u001b[0m \u001b[0maxis\u001b[0m\u001b[0;34m)\u001b[0m\u001b[0;34m\u001b[0m\u001b[0;34m\u001b[0m\u001b[0m\n\u001b[0;32m-> 1110\u001b[0;31m         \u001b[0;32mreturn\u001b[0m \u001b[0mself\u001b[0m\u001b[0;34m.\u001b[0m\u001b[0m_get_label\u001b[0m\u001b[0;34m(\u001b[0m\u001b[0mkey\u001b[0m\u001b[0;34m,\u001b[0m \u001b[0maxis\u001b[0m\u001b[0;34m=\u001b[0m\u001b[0maxis\u001b[0m\u001b[0;34m)\u001b[0m\u001b[0;34m\u001b[0m\u001b[0;34m\u001b[0m\u001b[0m\n\u001b[0m\u001b[1;32m   1111\u001b[0m \u001b[0;34m\u001b[0m\u001b[0m\n\u001b[1;32m   1112\u001b[0m     \u001b[0;32mdef\u001b[0m \u001b[0m_get_slice_axis\u001b[0m\u001b[0;34m(\u001b[0m\u001b[0mself\u001b[0m\u001b[0;34m,\u001b[0m \u001b[0mslice_obj\u001b[0m\u001b[0;34m:\u001b[0m \u001b[0mslice\u001b[0m\u001b[0;34m,\u001b[0m \u001b[0maxis\u001b[0m\u001b[0;34m:\u001b[0m \u001b[0mint\u001b[0m\u001b[0;34m)\u001b[0m\u001b[0;34m:\u001b[0m\u001b[0;34m\u001b[0m\u001b[0;34m\u001b[0m\u001b[0m\n",
            "\u001b[0;32m/usr/local/lib/python3.6/dist-packages/pandas/core/indexing.py\u001b[0m in \u001b[0;36m_get_label\u001b[0;34m(self, label, axis)\u001b[0m\n\u001b[1;32m   1057\u001b[0m     \u001b[0;32mdef\u001b[0m \u001b[0m_get_label\u001b[0m\u001b[0;34m(\u001b[0m\u001b[0mself\u001b[0m\u001b[0;34m,\u001b[0m \u001b[0mlabel\u001b[0m\u001b[0;34m,\u001b[0m \u001b[0maxis\u001b[0m\u001b[0;34m:\u001b[0m \u001b[0mint\u001b[0m\u001b[0;34m)\u001b[0m\u001b[0;34m:\u001b[0m\u001b[0;34m\u001b[0m\u001b[0;34m\u001b[0m\u001b[0m\n\u001b[1;32m   1058\u001b[0m         \u001b[0;31m# GH#5667 this will fail if the label is not present in the axis.\u001b[0m\u001b[0;34m\u001b[0m\u001b[0;34m\u001b[0m\u001b[0;34m\u001b[0m\u001b[0m\n\u001b[0;32m-> 1059\u001b[0;31m         \u001b[0;32mreturn\u001b[0m \u001b[0mself\u001b[0m\u001b[0;34m.\u001b[0m\u001b[0mobj\u001b[0m\u001b[0;34m.\u001b[0m\u001b[0mxs\u001b[0m\u001b[0;34m(\u001b[0m\u001b[0mlabel\u001b[0m\u001b[0;34m,\u001b[0m \u001b[0maxis\u001b[0m\u001b[0;34m=\u001b[0m\u001b[0maxis\u001b[0m\u001b[0;34m)\u001b[0m\u001b[0;34m\u001b[0m\u001b[0;34m\u001b[0m\u001b[0m\n\u001b[0m\u001b[1;32m   1060\u001b[0m \u001b[0;34m\u001b[0m\u001b[0m\n\u001b[1;32m   1061\u001b[0m     \u001b[0;32mdef\u001b[0m \u001b[0m_handle_lowerdim_multi_index_axis0\u001b[0m\u001b[0;34m(\u001b[0m\u001b[0mself\u001b[0m\u001b[0;34m,\u001b[0m \u001b[0mtup\u001b[0m\u001b[0;34m:\u001b[0m \u001b[0mTuple\u001b[0m\u001b[0;34m)\u001b[0m\u001b[0;34m:\u001b[0m\u001b[0;34m\u001b[0m\u001b[0;34m\u001b[0m\u001b[0m\n",
            "\u001b[0;32m/usr/local/lib/python3.6/dist-packages/pandas/core/generic.py\u001b[0m in \u001b[0;36mxs\u001b[0;34m(self, key, axis, level, drop_level)\u001b[0m\n\u001b[1;32m   3486\u001b[0m             \u001b[0mloc\u001b[0m\u001b[0;34m,\u001b[0m \u001b[0mnew_index\u001b[0m \u001b[0;34m=\u001b[0m \u001b[0mself\u001b[0m\u001b[0;34m.\u001b[0m\u001b[0mindex\u001b[0m\u001b[0;34m.\u001b[0m\u001b[0mget_loc_level\u001b[0m\u001b[0;34m(\u001b[0m\u001b[0mkey\u001b[0m\u001b[0;34m,\u001b[0m \u001b[0mdrop_level\u001b[0m\u001b[0;34m=\u001b[0m\u001b[0mdrop_level\u001b[0m\u001b[0;34m)\u001b[0m\u001b[0;34m\u001b[0m\u001b[0;34m\u001b[0m\u001b[0m\n\u001b[1;32m   3487\u001b[0m         \u001b[0;32melse\u001b[0m\u001b[0;34m:\u001b[0m\u001b[0;34m\u001b[0m\u001b[0;34m\u001b[0m\u001b[0m\n\u001b[0;32m-> 3488\u001b[0;31m             \u001b[0mloc\u001b[0m \u001b[0;34m=\u001b[0m \u001b[0mself\u001b[0m\u001b[0;34m.\u001b[0m\u001b[0mindex\u001b[0m\u001b[0;34m.\u001b[0m\u001b[0mget_loc\u001b[0m\u001b[0;34m(\u001b[0m\u001b[0mkey\u001b[0m\u001b[0;34m)\u001b[0m\u001b[0;34m\u001b[0m\u001b[0;34m\u001b[0m\u001b[0m\n\u001b[0m\u001b[1;32m   3489\u001b[0m \u001b[0;34m\u001b[0m\u001b[0m\n\u001b[1;32m   3490\u001b[0m             \u001b[0;32mif\u001b[0m \u001b[0misinstance\u001b[0m\u001b[0;34m(\u001b[0m\u001b[0mloc\u001b[0m\u001b[0;34m,\u001b[0m \u001b[0mnp\u001b[0m\u001b[0;34m.\u001b[0m\u001b[0mndarray\u001b[0m\u001b[0;34m)\u001b[0m\u001b[0;34m:\u001b[0m\u001b[0;34m\u001b[0m\u001b[0;34m\u001b[0m\u001b[0m\n",
            "\u001b[0;32m/usr/local/lib/python3.6/dist-packages/pandas/core/indexes/base.py\u001b[0m in \u001b[0;36mget_loc\u001b[0;34m(self, key, method, tolerance)\u001b[0m\n\u001b[1;32m   2891\u001b[0m                 \u001b[0;32mreturn\u001b[0m \u001b[0mself\u001b[0m\u001b[0;34m.\u001b[0m\u001b[0m_engine\u001b[0m\u001b[0;34m.\u001b[0m\u001b[0mget_loc\u001b[0m\u001b[0;34m(\u001b[0m\u001b[0mcasted_key\u001b[0m\u001b[0;34m)\u001b[0m\u001b[0;34m\u001b[0m\u001b[0;34m\u001b[0m\u001b[0m\n\u001b[1;32m   2892\u001b[0m             \u001b[0;32mexcept\u001b[0m \u001b[0mKeyError\u001b[0m \u001b[0;32mas\u001b[0m \u001b[0merr\u001b[0m\u001b[0;34m:\u001b[0m\u001b[0;34m\u001b[0m\u001b[0;34m\u001b[0m\u001b[0m\n\u001b[0;32m-> 2893\u001b[0;31m                 \u001b[0;32mraise\u001b[0m \u001b[0mKeyError\u001b[0m\u001b[0;34m(\u001b[0m\u001b[0mkey\u001b[0m\u001b[0;34m)\u001b[0m \u001b[0;32mfrom\u001b[0m \u001b[0merr\u001b[0m\u001b[0;34m\u001b[0m\u001b[0;34m\u001b[0m\u001b[0m\n\u001b[0m\u001b[1;32m   2894\u001b[0m \u001b[0;34m\u001b[0m\u001b[0m\n\u001b[1;32m   2895\u001b[0m         \u001b[0;32mif\u001b[0m \u001b[0mtolerance\u001b[0m \u001b[0;32mis\u001b[0m \u001b[0;32mnot\u001b[0m \u001b[0;32mNone\u001b[0m\u001b[0;34m:\u001b[0m\u001b[0;34m\u001b[0m\u001b[0;34m\u001b[0m\u001b[0m\n",
            "\u001b[0;31mKeyError\u001b[0m: 1"
          ]
        }
      ]
    },
    {
      "cell_type": "markdown",
      "metadata": {
        "id": "mK2rjSqAsff_"
      },
      "source": [
        "**Loading files: csv, json ...**\n",
        "\n",
        "```pd.read_csv``` ```pd.DataFrame.columns```"
      ]
    },
    {
      "cell_type": "code",
      "metadata": {
        "id": "apNQ9rDCsoqW",
        "outputId": "d23a3b92-7713-44d5-ea00-37f41635fd69",
        "colab": {
          "base_uri": "https://localhost:8080/",
          "height": 420
        }
      },
      "source": [
        "pokemonData = pd.read_csv('./sample_data/pokemon.csv', \n",
        "                          sep=',', \n",
        "                          header='infer', \n",
        "                          names=None, \n",
        "                          index_col=None, \n",
        "                          usecols=None, \n",
        "                          prefix=None, \n",
        "                          mangle_dupe_cols=True, \n",
        "                          dtype=None, \n",
        "                          engine=None, \n",
        "                          converters=None, \n",
        "                          true_values=None, \n",
        "                          false_values=None, \n",
        "                          skipinitialspace=False, \n",
        "                          skiprows=None, \n",
        "                          skipfooter=0, \n",
        "                          nrows=None, \n",
        "                          na_values=None, \n",
        "                          keep_default_na=True, \n",
        "                          na_filter=True, \n",
        "                          verbose=False, \n",
        "                          skip_blank_lines=True, parse_dates=False, \n",
        "                          infer_datetime_format=False, \n",
        "                          keep_date_col=False, \n",
        "                          date_parser=None, \n",
        "                          dayfirst=False, \n",
        "                          cache_dates=True, \n",
        "                          iterator=False, \n",
        "                          chunksize=None, \n",
        "                          compression='infer', \n",
        "                          thousands=None, \n",
        "                          decimal='.', \n",
        "                          lineterminator=None, \n",
        "                          quotechar='\"', \n",
        "                          quoting=0, \n",
        "                          doublequote=True, \n",
        "                          escapechar=None, \n",
        "                          comment=None, \n",
        "                          encoding=None, \n",
        "                          dialect=None, \n",
        "                          error_bad_lines=True, \n",
        "                          warn_bad_lines=True, \n",
        "                          delim_whitespace=False, \n",
        "                          low_memory=True, \n",
        "                          memory_map=False, \n",
        "                          float_precision=None)\n",
        "\n",
        "## Visualize columns\n",
        "print(pokemonData.columns)\n",
        "\n",
        "## Visualize a few rowns\n",
        "print(pokemonData[:10])\n"
      ],
      "execution_count": null,
      "outputs": [
        {
          "output_type": "stream",
          "text": [
            "Index(['abilities', 'against_bug', 'against_dark', 'against_dragon',\n",
            "       'against_electric', 'against_fairy', 'against_fight', 'against_fire',\n",
            "       'against_flying', 'against_ghost', 'against_grass', 'against_ground',\n",
            "       'against_ice', 'against_normal', 'against_poison', 'against_psychic',\n",
            "       'against_rock', 'against_steel', 'against_water', 'attack',\n",
            "       'base_egg_steps', 'base_happiness', 'base_total', 'capture_rate',\n",
            "       'classfication', 'defense', 'experience_growth', 'height_m', 'hp',\n",
            "       'japanese_name', 'name', 'percentage_male', 'pokedex_number',\n",
            "       'sp_attack', 'sp_defense', 'speed', 'type1', 'type2', 'weight_kg',\n",
            "       'generation', 'is_legendary'],\n",
            "      dtype='object')\n",
            "                     abilities  against_bug  ...  generation  is_legendary\n",
            "0  ['Overgrow', 'Chlorophyll']         1.00  ...           1             0\n",
            "1  ['Overgrow', 'Chlorophyll']         1.00  ...           1             0\n",
            "2  ['Overgrow', 'Chlorophyll']         1.00  ...           1             0\n",
            "3     ['Blaze', 'Solar Power']         0.50  ...           1             0\n",
            "4     ['Blaze', 'Solar Power']         0.50  ...           1             0\n",
            "5     ['Blaze', 'Solar Power']         0.25  ...           1             0\n",
            "6     ['Torrent', 'Rain Dish']         1.00  ...           1             0\n",
            "7     ['Torrent', 'Rain Dish']         1.00  ...           1             0\n",
            "8     ['Torrent', 'Rain Dish']         1.00  ...           1             0\n",
            "9  ['Shield Dust', 'Run Away']         1.00  ...           1             0\n",
            "\n",
            "[10 rows x 41 columns]\n"
          ],
          "name": "stdout"
        }
      ]
    },
    {
      "cell_type": "markdown",
      "metadata": {
        "id": "TKfbsGgb8-nG"
      },
      "source": [
        "# Nueva sección"
      ]
    },
    {
      "cell_type": "markdown",
      "metadata": {
        "id": "tsI7L5-EucLs"
      },
      "source": [
        "**Column selection. Boolean selection. Query**"
      ]
    },
    {
      "cell_type": "markdown",
      "metadata": {
        "id": "C8272_u8xc9y"
      },
      "source": [
        "We can select columns from the DataFrame using very simple syntax. \n",
        "\n",
        "We can also make a boolean selection of entries (rows) from the data frame using simple commands\n",
        "\n",
        "We can modify selected data in our DataFrame or Series using different strategies.\n",
        "\n",
        "\n",
        "\n",
        "*   ```pd.DataFrame[[*list of columns*]]```,\n",
        "*   ```pd.Series.[max()/min()/argmax()/argmin()/median()...]```\n",
        "*   ```pd.Series.apply()``` \n",
        "*   ```pd.DataFrame.iloc[]```\n",
        "*   ```pd.DataFrame.loc[]```\n",
        "* ``` pd.DataFrame.groupby```, ``` pd.DataFrame.groupby().agg()```\n",
        "\n",
        "\n",
        "\n",
        "\n",
        "\n",
        "\n",
        "\n",
        " "
      ]
    },
    {
      "cell_type": "code",
      "metadata": {
        "id": "QdGNUZsCxGkE",
        "outputId": "1e749a9e-b62a-42ff-fe7d-7933858f4fdc",
        "colab": {
          "base_uri": "https://localhost:8080/",
          "height": 1000
        }
      },
      "source": [
        "#### Column selection. You can select also multiple columns\n",
        "pokemonData['height_m']\n",
        "\n",
        "pokemonHandD = pokemonData[['height_m', 'defense']]\n",
        "\n",
        "### It returns a copy of the Index Object! \n",
        "pokemonData['height_m']\n",
        "print(pokemonData.head(10))\n",
        "pokemonData['height_m'] + 1 \n",
        "print(pokemonData)\n",
        "\n",
        "### Some methods and attributes for the pd.DataFrame and Series object are very analogous to Python \n",
        "print('Size is ', pokemonData.size)\n",
        "print('Shape is ', pokemonData.shape)\n",
        "print('Mean height is ', pokemonData['height_m'].mean())\n",
        "print(pokemonData['height_m'])\n",
        "count = pokemonData['type1'].value_counts()\n",
        "\n",
        "\n",
        "### Boolean selection\n",
        "BigPokemon = pokemonData[pokemonData['height_m']>1]\n",
        "print('The number of big pokemon is {}'.format(len(BigPokemon)))\n",
        "\n",
        "### Selection with iloc. Similar to numpy array indexing. \n",
        "pokemonData.iloc[:,0] = 'No abilities'\n",
        "print(pokemonData.iloc[:,0])\n",
        "\n",
        "print(pokemonData.columns)\n",
        "\n",
        "### Selection based on names. Selection of rows can be boolean \n",
        "### change a column especial power to smash for pokemon that are heavy. \n",
        "pokemonData['especial_ability']='Nothing'\n",
        "pokemonData.loc[pokemonData.weight_kg>900, 'especial_ability'] = 'Smash'\n",
        "\n",
        "print(pokemonData.loc[pokemonData.especial_ability =='Smash',:])\n",
        "\n",
        "\n",
        "### Grouping with groupby (https://www.shanelynn.ie/summarising-aggregation-and-grouping-data-in-python-pandas/)\n",
        "print(pokemonData.groupby('type2'))\n",
        "print(pokemonData.groupby('type2').agg({'weight_kg': 'mean',\n",
        "                                        'height_m': 'median'\n",
        "                                        }))\n"
      ],
      "execution_count": null,
      "outputs": [
        {
          "output_type": "stream",
          "text": [
            "      abilities  against_bug  ...  is_legendary  especial_ability\n",
            "0  No abilities         1.00  ...             0           Nothing\n",
            "1  No abilities         1.00  ...             0           Nothing\n",
            "2  No abilities         1.00  ...             0           Nothing\n",
            "3  No abilities         0.50  ...             0           Nothing\n",
            "4  No abilities         0.50  ...             0           Nothing\n",
            "5  No abilities         0.25  ...             0           Nothing\n",
            "6  No abilities         1.00  ...             0           Nothing\n",
            "7  No abilities         1.00  ...             0           Nothing\n",
            "8  No abilities         1.00  ...             0           Nothing\n",
            "9  No abilities         1.00  ...             0           Nothing\n",
            "\n",
            "[10 rows x 42 columns]\n",
            "        abilities  against_bug  ...  is_legendary  especial_ability\n",
            "0    No abilities         1.00  ...             0           Nothing\n",
            "1    No abilities         1.00  ...             0           Nothing\n",
            "2    No abilities         1.00  ...             0           Nothing\n",
            "3    No abilities         0.50  ...             0           Nothing\n",
            "4    No abilities         0.50  ...             0           Nothing\n",
            "..            ...          ...  ...           ...               ...\n",
            "796  No abilities         0.25  ...             1             Smash\n",
            "797  No abilities         1.00  ...             1           Nothing\n",
            "798  No abilities         2.00  ...             1           Nothing\n",
            "799  No abilities         2.00  ...             1           Nothing\n",
            "800  No abilities         0.25  ...             1           Nothing\n",
            "\n",
            "[801 rows x 42 columns]\n",
            "Size is  33642\n",
            "Shape is  (801, 42)\n",
            "Mean height is  1.163892445582586\n",
            "0      0.7\n",
            "1      1.0\n",
            "2      2.0\n",
            "3      0.6\n",
            "4      1.1\n",
            "      ... \n",
            "796    9.2\n",
            "797    0.3\n",
            "798    5.5\n",
            "799    2.4\n",
            "800    1.0\n",
            "Name: height_m, Length: 801, dtype: float64\n",
            "The number of big pokemon is 348\n",
            "0      No abilities\n",
            "1      No abilities\n",
            "2      No abilities\n",
            "3      No abilities\n",
            "4      No abilities\n",
            "           ...     \n",
            "796    No abilities\n",
            "797    No abilities\n",
            "798    No abilities\n",
            "799    No abilities\n",
            "800    No abilities\n",
            "Name: abilities, Length: 801, dtype: object\n",
            "Index(['abilities', 'against_bug', 'against_dark', 'against_dragon',\n",
            "       'against_electric', 'against_fairy', 'against_fight', 'against_fire',\n",
            "       'against_flying', 'against_ghost', 'against_grass', 'against_ground',\n",
            "       'against_ice', 'against_normal', 'against_poison', 'against_psychic',\n",
            "       'against_rock', 'against_steel', 'against_water', 'attack',\n",
            "       'base_egg_steps', 'base_happiness', 'base_total', 'capture_rate',\n",
            "       'classfication', 'defense', 'experience_growth', 'height_m', 'hp',\n",
            "       'japanese_name', 'name', 'percentage_male', 'pokedex_number',\n",
            "       'sp_attack', 'sp_defense', 'speed', 'type1', 'type2', 'weight_kg',\n",
            "       'generation', 'is_legendary', 'especial_ability'],\n",
            "      dtype='object')\n",
            "        abilities  against_bug  ...  is_legendary  especial_ability\n",
            "382  No abilities         1.00  ...             1             Smash\n",
            "749  No abilities         1.00  ...             0             Smash\n",
            "789  No abilities         2.00  ...             1             Smash\n",
            "796  No abilities         0.25  ...             1             Smash\n",
            "\n",
            "[4 rows x 42 columns]\n",
            "<pandas.core.groupby.generic.DataFrameGroupBy object at 0x7fa4404a6b70>\n",
            "           weight_kg  height_m\n",
            "type2                         \n",
            "bug        35.740000      0.80\n",
            "dark       67.058824      1.30\n",
            "dragon    235.358824      1.80\n",
            "electric   57.612500      0.75\n",
            "fairy      16.665517      0.60\n",
            "fighting   85.460000      1.40\n",
            "fire       52.075000      1.05\n",
            "flying     50.833684      1.10\n",
            "ghost      65.015385      1.20\n",
            "grass      35.355000      0.90\n",
            "ground    103.968966      1.20\n",
            "ice       134.154545      1.70\n",
            "normal     30.500000      0.80\n",
            "poison     25.978125      1.00\n",
            "psychic    80.217857      1.20\n",
            "rock      105.264286      0.95\n",
            "steel     101.640909      1.10\n",
            "water      51.600000      0.80\n"
          ],
          "name": "stdout"
        }
      ]
    },
    {
      "cell_type": "markdown",
      "metadata": {
        "id": "IHLj8oXD9jzJ"
      },
      "source": [
        "**Some plotting tools**\n",
        "\n",
        "Plotting are implemented as *methods* on the  ```pd.DataFrame``` or ```pd.Series``` object. \n",
        "\n",
        "*   ```pd.DataFrame.plot()```\n",
        "*   ```pd.Series.plot()```\n",
        "\n",
        "\n"
      ]
    },
    {
      "cell_type": "code",
      "metadata": {
        "id": "PX67oH5k9qyR",
        "outputId": "1e5719f0-a5d6-4104-efbc-7da1c6a494e4",
        "colab": {
          "base_uri": "https://localhost:8080/",
          "height": 1000
        }
      },
      "source": [
        "### Plotting  from series objects\n",
        "ax = pokemonData['height_m'].plot()\n",
        "ax.set_xlabel('index of the pokemon')\n",
        "ax.set_ylabel('Height in meter')\n",
        "\n",
        "plt.figure()\n",
        "ax2 = pokemonData['height_m'].hist()\n",
        "ax2.set_xlabel('occurrences')\n",
        "ax2.set_ylabel('Height in meter')\n",
        "\n",
        "plt.figure()\n",
        "ax3 = count = pokemonData['type1'].value_counts().plot(kind='bar')\n",
        "ax3.set_xlabel('Pokemon type')\n",
        "ax3.set_ylabel('Number of Pokemon')\n",
        "\n",
        "### What happens if we plot an entire pd.DataFrame\n",
        "\n",
        "pokemonData[['weight_kg','speed']].plot(x=None,\n",
        "                                        y=None,\n",
        "                                        kind='line',\n",
        "                                        ax=None,\n",
        "                                        subplots=True,\n",
        "                                        sharex=True,\n",
        "                                        sharey=False,\n",
        "                                        layout=None,\n",
        "                                        figsize=None,\n",
        "                                        use_index=True,\n",
        "                                        title=None,\n",
        "                                        grid=None,\n",
        "                                        legend=True,\n",
        "                                        style=None,\n",
        "                                        logx=False,\n",
        "                                        logy=False,\n",
        "                                        loglog=False,\n",
        "                                        xticks=None,\n",
        "                                        yticks=None,\n",
        "                                        xlim=None,\n",
        "                                        ylim=None,\n",
        "                                        rot=None,\n",
        "                                        fontsize=None,\n",
        "                                        colormap=None,\n",
        "                                        table=False,\n",
        "                                        yerr=None,\n",
        "                                        xerr=None,\n",
        "                                        secondary_y=False,\n",
        "                                        sort_columns=False)"
      ],
      "execution_count": null,
      "outputs": [
        {
          "output_type": "execute_result",
          "data": {
            "text/plain": [
              "array([<matplotlib.axes._subplots.AxesSubplot object at 0x7fb9b6069470>,\n",
              "       <matplotlib.axes._subplots.AxesSubplot object at 0x7fb9b6002d68>],\n",
              "      dtype=object)"
            ]
          },
          "metadata": {
            "tags": []
          },
          "execution_count": 45
        },
        {
          "output_type": "display_data",
          "data": {
            "image/png": "[encoded data removed]",
            "text/plain": [
              "<Figure size 432x288 with 1 Axes>"
            ]
          },
          "metadata": {
            "tags": [],
            "needs_background": "light"
          }
        },
        {
          "output_type": "display_data",
          "data": {
            "image/png": "[encoded data removed]",
            "text/plain": [
              "<Figure size 432x288 with 1 Axes>"
            ]
          },
          "metadata": {
            "tags": [],
            "needs_background": "light"
          }
        },
        {
          "output_type": "display_data",
          "data": {
            "image/png": "[encoded data removed]",
            "text/plain": [
              "<Figure size 432x288 with 1 Axes>"
            ]
          },
          "metadata": {
            "tags": [],
            "needs_background": "light"
          }
        },
        {
          "output_type": "display_data",
          "data": {
            "image/png": "[encoded data removed]",
            "text/plain": [
              "<Figure size 432x288 with 2 Axes>"
            ]
          },
          "metadata": {
            "tags": [],
            "needs_background": "light"
          }
        }
      ]
    },
    {
      "cell_type": "markdown",
      "metadata": {
        "id": "7hznlRAQp6mq"
      },
      "source": [
        "***Combining data sets***\n",
        "\n",
        "*    ```DataFrame.merge()```\n",
        "*  ```pd.DataFrame.append()```\n",
        "*   ```pd.DataFrane.join()```\n",
        "\n",
        "\n",
        "\n",
        "\n"
      ]
    },
    {
      "cell_type": "code",
      "metadata": {
        "id": "PCAqTTNxxQmR",
        "outputId": "c1c6c079-d282-4328-b7b9-ccc0bb153231",
        "colab": {
          "base_uri": "https://localhost:8080/",
          "height": 496
        }
      },
      "source": [
        "data_training = pd.read_csv('./sample_data/california_housing_train.csv')\n",
        "print(data_training.head(10))\n",
        "print(data_training.columns)\n",
        "print(data_training.shape)\n",
        "\n",
        "data_training_expanded = data_training.copy()\n",
        "data_training_expanded['extra_feature']  = 'Nothing'\n",
        "data_training_expanded = data_training_expanded.loc[::2, :]\n",
        "print(data_training_expanded.shape)\n",
        "\n",
        "\n",
        "data_training_merged = data_training.merge(data_training_expanded,\n",
        "                how='outer',\n",
        "                on=['longitude','latitude'],\n",
        "                left_on=None,\n",
        "                right_on=None,\n",
        "                left_index=False,\n",
        "                right_index=False,\n",
        "                sort=False,\n",
        "                suffixes='_x',\n",
        "                copy=True,\n",
        "                indicator=False,\n",
        "                validate=None)\n",
        "\n",
        "print(data_training.columns)"
      ],
      "execution_count": null,
      "outputs": [
        {
          "output_type": "stream",
          "text": [
            "   longitude  latitude  ...  median_income  median_house_value\n",
            "0    -114.31     34.19  ...         1.4936             66900.0\n",
            "1    -114.47     34.40  ...         1.8200             80100.0\n",
            "2    -114.56     33.69  ...         1.6509             85700.0\n",
            "3    -114.57     33.64  ...         3.1917             73400.0\n",
            "4    -114.57     33.57  ...         1.9250             65500.0\n",
            "5    -114.58     33.63  ...         3.3438             74000.0\n",
            "6    -114.58     33.61  ...         2.6768             82400.0\n",
            "7    -114.59     34.83  ...         1.7083             48500.0\n",
            "8    -114.59     33.61  ...         2.1782             58400.0\n",
            "9    -114.60     34.83  ...         2.1908             48100.0\n",
            "\n",
            "[10 rows x 9 columns]\n",
            "Index(['longitude', 'latitude', 'housing_median_age', 'total_rooms',\n",
            "       'total_bedrooms', 'population', 'households', 'median_income',\n",
            "       'median_house_value'],\n",
            "      dtype='object')\n",
            "(17000, 9)\n",
            "(8500, 10)\n",
            "Index(['longitude', 'latitude', 'housing_median_age_', 'total_rooms_',\n",
            "       'total_bedrooms_', 'population_', 'households_', 'median_income_',\n",
            "       'median_house_value_', 'housing_median_agex', 'total_roomsx',\n",
            "       'total_bedroomsx', 'populationx', 'householdsx', 'median_incomex',\n",
            "       'median_house_valuex', 'extra_feature'],\n",
            "      dtype='object')\n"
          ],
          "name": "stdout"
        },
        {
          "output_type": "stream",
          "text": [
            "/usr/local/lib/python3.6/dist-packages/pandas/core/frame.py:7958: FutureWarning: Passing 'suffixes' as a <class 'str'>, is not supported and may give unexpected results. Provide 'suffixes' as a tuple instead. In the future a 'TypeError' will be raised.\n",
            "  validate=validate,\n"
          ],
          "name": "stderr"
        }
      ]
    }
  ]
}